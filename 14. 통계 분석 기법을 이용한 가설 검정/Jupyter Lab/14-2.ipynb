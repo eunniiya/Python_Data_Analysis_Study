{
 "cells": [
  {
   "cell_type": "code",
   "execution_count": 1,
   "id": "9b7aa6e3-2aab-46e0-af6e-c3933c1f88cd",
   "metadata": {},
   "outputs": [
    {
     "data": {
      "text/html": [
       "<div>\n",
       "<style scoped>\n",
       "    .dataframe tbody tr th:only-of-type {\n",
       "        vertical-align: middle;\n",
       "    }\n",
       "\n",
       "    .dataframe tbody tr th {\n",
       "        vertical-align: top;\n",
       "    }\n",
       "\n",
       "    .dataframe thead th {\n",
       "        text-align: right;\n",
       "    }\n",
       "</style>\n",
       "<table border=\"1\" class=\"dataframe\">\n",
       "  <thead>\n",
       "    <tr style=\"text-align: right;\">\n",
       "      <th></th>\n",
       "      <th>category</th>\n",
       "      <th>n</th>\n",
       "      <th>mean</th>\n",
       "    </tr>\n",
       "  </thead>\n",
       "  <tbody>\n",
       "    <tr>\n",
       "      <th>0</th>\n",
       "      <td>compact</td>\n",
       "      <td>47</td>\n",
       "      <td>20.12766</td>\n",
       "    </tr>\n",
       "    <tr>\n",
       "      <th>1</th>\n",
       "      <td>suv</td>\n",
       "      <td>62</td>\n",
       "      <td>13.50000</td>\n",
       "    </tr>\n",
       "  </tbody>\n",
       "</table>\n",
       "</div>"
      ],
      "text/plain": [
       "  category   n      mean\n",
       "0  compact  47  20.12766\n",
       "1      suv  62  13.50000"
      ]
     },
     "execution_count": 1,
     "metadata": {},
     "output_type": "execute_result"
    }
   ],
   "source": [
    "\n",
    "import pandas as pd\n",
    "mpg = pd.read_csv('mpg.csv')\n",
    "\n",
    "# 기술 통계 분석\n",
    "mpg.query('category in [\"compact\",\"suv\"]') \\\n",
    "   .groupby('category', as_index = False) \\\n",
    "   .agg(n= ('category' , 'count'),\n",
    "    mean = ('cty','mean'))"
   ]
  },
  {
   "cell_type": "code",
   "execution_count": 2,
   "id": "ca349202-1e37-47a8-861f-85c57ccbd4ff",
   "metadata": {},
   "outputs": [],
   "source": [
    "\n",
    "compact = mpg.query('category == \"compact\"')['cty']\n",
    "suv = mpg.query('category == \"suv\"')['cty']"
   ]
  },
  {
   "cell_type": "code",
   "execution_count": 3,
   "id": "50253113-919d-42c8-8042-6ba7dc5ca4fe",
   "metadata": {},
   "outputs": [
    {
     "data": {
      "text/plain": [
       "Ttest_indResult(statistic=11.917282584324107, pvalue=2.3909550904711282e-21)"
      ]
     },
     "execution_count": 3,
     "metadata": {},
     "output_type": "execute_result"
    }
   ],
   "source": [
    "# t - test\n",
    "from scipy import stats\n",
    "stats.ttest_ind(compact, suv, equal_var = True)"
   ]
  },
  {
   "cell_type": "code",
   "execution_count": 5,
   "id": "1d078b24-407e-4ce0-bdbc-e159825b5d60",
   "metadata": {},
   "outputs": [
    {
     "data": {
      "text/html": [
       "<div>\n",
       "<style scoped>\n",
       "    .dataframe tbody tr th:only-of-type {\n",
       "        vertical-align: middle;\n",
       "    }\n",
       "\n",
       "    .dataframe tbody tr th {\n",
       "        vertical-align: top;\n",
       "    }\n",
       "\n",
       "    .dataframe thead th {\n",
       "        text-align: right;\n",
       "    }\n",
       "</style>\n",
       "<table border=\"1\" class=\"dataframe\">\n",
       "  <thead>\n",
       "    <tr style=\"text-align: right;\">\n",
       "      <th></th>\n",
       "      <th>fl</th>\n",
       "      <th>n</th>\n",
       "      <th>mean</th>\n",
       "    </tr>\n",
       "  </thead>\n",
       "  <tbody>\n",
       "    <tr>\n",
       "      <th>0</th>\n",
       "      <td>p</td>\n",
       "      <td>52</td>\n",
       "      <td>17.365385</td>\n",
       "    </tr>\n",
       "    <tr>\n",
       "      <th>1</th>\n",
       "      <td>r</td>\n",
       "      <td>168</td>\n",
       "      <td>16.738095</td>\n",
       "    </tr>\n",
       "  </tbody>\n",
       "</table>\n",
       "</div>"
      ],
      "text/plain": [
       "  fl    n       mean\n",
       "0  p   52  17.365385\n",
       "1  r  168  16.738095"
      ]
     },
     "execution_count": 5,
     "metadata": {},
     "output_type": "execute_result"
    }
   ],
   "source": [
    "# 기출 통계 분석\n",
    "mpg.query('fl in [\"r\", \"p\"]')\\\n",
    "   .groupby('fl', as_index = False)\\\n",
    "   .agg(n = ('fl','count'),\n",
    "      mean = ('cty','mean'))"
   ]
  },
  {
   "cell_type": "code",
   "execution_count": 6,
   "id": "cf14a009-54e0-4aeb-abcc-cb435904e767",
   "metadata": {},
   "outputs": [
    {
     "data": {
      "text/plain": [
       "Ttest_indResult(statistic=-1.066182514588919, pvalue=0.28752051088667036)"
      ]
     },
     "execution_count": 6,
     "metadata": {},
     "output_type": "execute_result"
    }
   ],
   "source": [
    "regular = mpg.query('fl == \"r\"')['cty']\n",
    "premium = mpg.query('fl == \"p\"')['cty']\n",
    "\n",
    "# t - test\n",
    "stats.ttest_ind(regular , premium, equal_var = True)"
   ]
  },
  {
   "cell_type": "code",
   "execution_count": null,
   "id": "f755b32a-4d32-434d-890b-db849a3ff62d",
   "metadata": {},
   "outputs": [],
   "source": []
  }
 ],
 "metadata": {
  "kernelspec": {
   "display_name": "Python 3 (ipykernel)",
   "language": "python",
   "name": "python3"
  },
  "language_info": {
   "codemirror_mode": {
    "name": "ipython",
    "version": 3
   },
   "file_extension": ".py",
   "mimetype": "text/x-python",
   "name": "python",
   "nbconvert_exporter": "python",
   "pygments_lexer": "ipython3",
   "version": "3.10.9"
  }
 },
 "nbformat": 4,
 "nbformat_minor": 5
}
